{
 "cells": [
  {
   "cell_type": "markdown",
   "metadata": {
    "slideshow": {
     "slide_type": "slide"
    }
   },
   "source": [
    "<h1><center>Functional Brain Parcellation</center></h1>\n",
    "<center><img src='stab_mat.png' class=\"img_title\"></center>\n",
    "<center>Pierre Bellec</center>\n",
    "<center>University of Montreal, CRIUGM, CA</center>\n",
    "\n",
    "<center>\n",
    "    <div id=\"banner\" style=\"overflow: hidden; justify-content:space-around;\">\n",
    "        <div class=\"\" style=\"max-width: 20%;max-height: 20%;display: inline-block;\">\n",
    "            <img src=\"logo_udem.png\" width=\"200px\" alt=\"\">\n",
    "        </div>\n",
    "        <div class=\"\" style=\"max-width: 20%;max-height: 20%;display: inline-block;\">\n",
    "            <img src=\"logo_criugm.png\" width=\"200px\" alt=\"\">\n",
    "        </div>\n",
    "        <div class=\"\" style=\"max-width: 20%;max-height: 20%;display: inline-block;\">\n",
    "            <img src=\"logo_unf.png\" width=\"200px\" alt=\"\">\n",
    "        </div>\n",
    "    </div>\n",
    "</center>"
   ]
  },
  {
   "cell_type": "markdown",
   "metadata": {
    "slideshow": {
     "slide_type": "subslide"
    }
   },
   "source": [
    "<div class=\"row content\">\n",
    "    <div class=\"col-lg-8 col-md-8 col-xs-8\">\n",
    "        <img class=\"img_slide\" src=\"varela2001.png\" width=\"100%\" alt=\"\">\n",
    "    </div>\n",
    "    <div class=\"col-lg-4 col-md-4 col-xs-4\">\n",
    "        <h1><center>Why parcellations? understand brain organization</center></h1>\n",
    "        <par>\n",
    "            Local and distributed connectivity lead to the emergence of both local and distributed neuronal assemblies. From Varela et al., 2001.\n",
    "        </par>\n",
    "    </div>\n",
    "</div>\n"
   ]
  },
  {
   "cell_type": "markdown",
   "metadata": {
    "slideshow": {
     "slide_type": "subslide"
    }
   },
   "source": [
    "\n",
    "<div class=\"row content\">\n",
    "    <div class=\"col-lg-4 col-md-4 col-xs-4\">\n",
    "        <h1><center>Why parcellations? reduce dimensionality</center></h1>\n",
    "        <par>\n",
    "            Parcels can be used as nodes to approximate brain networks as graphs. Here, the average connectome of the ADHD-200 sample is represented with several different parcellations, of varying resolutions. From Bellec et al., Neuroimage 2017.\n",
    "        </par>\n",
    "    </div>\n",
    "    <div class=\"col-lg-8 col-md-8 col-xs-8\">\n",
    "        <img class=\"img_slide\" src=\"graphs_adhd200.png\" width=\"75%\" alt=\"\">\n",
    "    </div>\n",
    "</div>\n"
   ]
  }
 ],
 "metadata": {
  "kernelspec": {
   "display_name": "Python 3",
   "language": "python",
   "name": "python3"
  },
  "language_info": {
   "codemirror_mode": {
    "name": "ipython",
    "version": 3
   },
   "file_extension": ".py",
   "mimetype": "text/x-python",
   "name": "python",
   "nbconvert_exporter": "python",
   "pygments_lexer": "ipython3",
   "version": "3.7.5"
  }
 },
 "nbformat": 4,
 "nbformat_minor": 4
}
